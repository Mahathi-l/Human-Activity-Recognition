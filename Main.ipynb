{
  "nbformat": 4,
  "nbformat_minor": 0,
  "metadata": {
    "accelerator": "GPU",
    "colab": {
      "name": "Untitled0.ipynb",
      "provenance": [],
      "collapsed_sections": []
    },
    "kernelspec": {
      "display_name": "Python 3",
      "name": "python3"
    },
    "language_info": {
      "name": "python"
    }
  },
  "cells": [
    {
      "cell_type": "markdown",
      "metadata": {
        "id": "s3HYhzKq6MVj"
      },
      "source": [
        "**HUMAN ACTIVITY RECOGNITION USING BI-LSTM ON TIME SERIES DATA**"
      ]
    },
    {
      "cell_type": "code",
      "metadata": {
        "colab": {
          "base_uri": "https://localhost:8080/"
        },
        "id": "beg0xuE9qqA5",
        "outputId": "1043bbdb-6017-4e73-fe1d-b83dd52fb100"
      },
      "source": [
        "#MOUNTING MY GDRIVE\n",
        "\n",
        "from google.colab import drive\n",
        "drive.mount('/content/gdrive')"
      ],
      "execution_count": 2,
      "outputs": [
        {
          "output_type": "stream",
          "name": "stdout",
          "text": [
            "Drive already mounted at /content/gdrive; to attempt to forcibly remount, call drive.mount(\"/content/gdrive\", force_remount=True).\n"
          ]
        }
      ]
    },
    {
      "cell_type": "code",
      "metadata": {
        "colab": {
          "base_uri": "https://localhost:8080/",
          "height": 36
        },
        "id": "xmcwcI2AVNaF",
        "outputId": "9922edeb-305f-49b4-fabf-26e772d88843"
      },
      "source": [
        "#CHECKING FOR GPU\n",
        "import tensorflow as tf\n",
        "tf.test.gpu_device_name()"
      ],
      "execution_count": 3,
      "outputs": [
        {
          "output_type": "execute_result",
          "data": {
            "application/vnd.google.colaboratory.intrinsic+json": {
              "type": "string"
            },
            "text/plain": [
              "'/device:GPU:0'"
            ]
          },
          "metadata": {},
          "execution_count": 3
        }
      ]
    },
    {
      "cell_type": "code",
      "metadata": {
        "id": "U8ci-dOArhJ5"
      },
      "source": [
        "# Install libraries by uncommenting if needed\n",
        "\n",
        "#!pip install tensorflow\n",
        "#!pip install pandas\n",
        "#!pip install matplotlib\n",
        "#!pip install seaborn\n",
        "#!pip install h5py\n",
        "#!pip install scikit-learn\n"
      ],
      "execution_count": 4,
      "outputs": []
    },
    {
      "cell_type": "code",
      "metadata": {
        "id": "hoU5NUEHq1SL"
      },
      "source": [
        "#necessary imports\n",
        "import pandas as pd\n",
        "import matplotlib.pyplot as plt\n",
        "import seaborn as sns\n",
        "from sklearn.model_selection import train_test_split\n",
        "import glob\n",
        "from sklearn.preprocessing import RobustScaler\n",
        "from scipy import stats\n",
        "import numpy as np\n",
        "import h5py\n",
        "import tensorflow as tf\n",
        "from tensorflow import keras"
      ],
      "execution_count": 5,
      "outputs": []
    },
    {
      "cell_type": "markdown",
      "metadata": {
        "id": "sJhd2fyUWfRJ"
      },
      "source": [
        " DATA PREPROCESSING"
      ]
    },
    {
      "cell_type": "code",
      "metadata": {
        "id": "UZwczYLYr0aQ"
      },
      "source": [
        "\"\"\"\n",
        "This function takes x & y as the inputs and extrapolates the y to match all the dimensions of the data\n",
        "It first reads all the csv files and creates a new pandas data frame for the y files with dimension\n",
        "4 * dimension(y).\n",
        "All the outliers in the x data are discarded to ensure the dimensions of x & y are same.\n",
        "\n",
        "Arguments:\n",
        "    1. x_files: IMU sensor readings\n",
        "    2. y_files: output label corresponding to each x\n",
        " \"\"\"\n",
        "def modify_raw_data(x_input, y_input):\n",
        "    df_y = pd.read_csv(y_input)\n",
        "    df_x = pd.read_csv(x_input)\n",
        "    \n",
        "    new_y = []\n",
        "    for i in df_y.iterrows():\n",
        "        new_y += [i[1][0]] * 4\n",
        "    \n",
        "    new_y = pd.DataFrame(new_y)\n",
        "    diff = df_x.shape[0] - new_y.shape[0]\n",
        "    df_x = df_x.iloc[:-diff,:]\n",
        "    \n",
        "    return df_x, new_y"
      ],
      "execution_count": 6,
      "outputs": []
    },
    {
      "cell_type": "code",
      "metadata": {
        "id": "ZpHGKh0SSLrQ"
      },
      "source": [
        "\"\"\"\n",
        "This Scaler removes the median and scales the data according to the quantile range.\n",
        "The data is standardised by removing the mean and scaling it to unit variance.\n",
        "This module basically normalizes the data making it robust to variations.\n",
        "\"\"\"\n",
        "def scale(scaled_data, scale_columns):\n",
        "    scaler = RobustScaler()\n",
        "    scaler = scaler.fit(scaled_data[scale_columns].values)\n",
        "    scaled_data.loc[:, scale_columns] = scaler.transform(scaled_data[scale_columns].to_numpy())\n",
        "    return scaled_data"
      ],
      "execution_count": 7,
      "outputs": []
    },
    {
      "cell_type": "code",
      "metadata": {
        "id": "sEkagw1jU96r"
      },
      "source": [
        "STEP = 60\n",
        "COUNT = 1"
      ],
      "execution_count": 8,
      "outputs": []
    },
    {
      "cell_type": "code",
      "metadata": {
        "id": "2Pf6lQb6Ukjn"
      },
      "source": [
        "\"\"\"Takes in X and y data and creates windows of time-series\n",
        "\"\"\"\n",
        "def create_mode_dataset(X, y, step=1, count=1):\n",
        "    Xs, ys = [], []\n",
        "    for i in range(0, len(X) - step, count):\n",
        "        v = X.iloc[i:(i + step)].values\n",
        "        labels = y.iloc[i: i + step]\n",
        "        Xs.append(v)\n",
        "        ys.append(stats.mode(labels)[0][0])\n",
        "    return np.array(Xs), np.array(ys).reshape(-1, 1)"
      ],
      "execution_count": 9,
      "outputs": []
    },
    {
      "cell_type": "code",
      "metadata": {
        "id": "96iQgAp7Uobm"
      },
      "source": [
        "def create_dataset(X, label, step = 40, count = 1):\n",
        "    Xs, ys = [], []\n",
        "    for i in range(0, len(X) - step, count):\n",
        "        v = X.iloc[i:(i + step)].values\n",
        "        Xs.append(v)        \n",
        "        ys.append(label)\n",
        "    return np.array(Xs), np.array(ys).reshape(-1, 1)"
      ],
      "execution_count": 10,
      "outputs": []
    },
    {
      "cell_type": "code",
      "metadata": {
        "id": "3C02qDFYr9Ec"
      },
      "source": [
        "\"\"\"\n",
        "This module takes  balanced x & y data files and creates windowed training instances suitable for the model chosen.\n",
        "First takes the x & y files, creates balanced data with same dimensions and then creates windows from x and y data.\n",
        "\n",
        "Arguments:\n",
        "    1. x_files: x sensor data csv\n",
        "    2. y_files: y label corresponding to each data csv\n",
        "    3. time_steps: defines the window size. maximum labels (mode) for a window is kept as the\n",
        "        output label for that windowed training instance\n",
        "    4. step: defines the instances to skip before starting the next window\n",
        "    \n",
        "    Returns:\n",
        "    1. stacked windowed training instances from all the files \n",
        "        (Dimension = [total-windows] X [time-steps] X [6])\n",
        "    2. stacked y labels for the corresponding above windowed training instances\n",
        "        (Dimension = [total-windows] X [1])\n",
        "\"\"\"\n",
        "\n",
        "def Merge_Data(x_files, y_files, step = 40, count = 1):\n",
        "    all_x = []\n",
        "    all_y = []\n",
        "    for i in range(len(y_files)):\n",
        "        X, y = modify_raw_data(x_files[i], y_files[i])\n",
        "        \n",
        "        X = scale(X, list(X.columns.values))\n",
        "        X, y = create_mode_dataset(X, y, step = step, count = count)\n",
        "        \n",
        "        all_x.append(X)\n",
        "        all_y.append(y)\n",
        "    return np.concatenate(all_x), np.concatenate(all_y)"
      ],
      "execution_count": 11,
      "outputs": []
    },
    {
      "cell_type": "markdown",
      "metadata": {
        "id": "oyBl_qY2kAK7"
      },
      "source": [
        "DATA PREPROCESSING\n",
        "\n",
        "--> Split the data into train test and validation files seperately\n",
        "\n",
        "--> Creating windowed time-series dataset"
      ]
    },
    {
      "cell_type": "code",
      "metadata": {
        "colab": {
          "base_uri": "https://localhost:8080/"
        },
        "id": "RRRed0P59-Bz",
        "outputId": "bee17d50-e8f2-4bbd-fb3c-0a19943bd2f3"
      },
      "source": [
        "cd '/content/gdrive/MyDrive/TerrainRecog/TrainingData'"
      ],
      "execution_count": 12,
      "outputs": [
        {
          "output_type": "stream",
          "name": "stdout",
          "text": [
            "/content/gdrive/MyDrive/TerrainRecog/TrainingData\n"
          ]
        }
      ]
    },
    {
      "cell_type": "code",
      "metadata": {
        "id": "7xXwtDYnwa-V"
      },
      "source": [
        "all_y_files = sorted(glob.glob('/content/gdrive/MyDrive/TerrainRecog/TrainingData/subject_???_??__y.csv'))\n",
        "all_x_files = sorted(glob.glob('/content/gdrive/MyDrive/TerrainRecog/TrainingData/subject_???_??__x.csv'))\n",
        "\n",
        "test_y_files = [\"/content/gdrive/MyDrive/TerrainRecog/TrainingData/subject_002_03__y.csv\", \"/content/gdrive/MyDrive/TerrainRecog/TrainingData/subject_001_04__y.csv\"]\n",
        "test_x_files = [\"/content/gdrive/MyDrive/TerrainRecog/TrainingData/subject_002_03__x.csv\", \"/content/gdrive/MyDrive/TerrainRecog/TrainingData/subject_001_04__x.csv\"]\n",
        "\n",
        "val_y_files = [\"/content/gdrive/MyDrive/TerrainRecog/TrainingData/subject_003_02__y.csv\", \"/content/gdrive/MyDrive/TerrainRecog/TrainingData/subject_007_04__y.csv\"]\n",
        "val_x_files = [\"/content/gdrive/MyDrive/TerrainRecog/TrainingData/subject_003_02__x.csv\", \"/content/gdrive/MyDrive/TerrainRecog/TrainingData/subject_007_04__x.csv\"]\n",
        "\n",
        "# subtract the files that are in test and val\n",
        "train_y_files = sorted(list(set(all_y_files) ^ set(test_y_files + val_y_files)))\n",
        "train_x_files = sorted(list(set(all_x_files) ^ set(test_x_files + val_x_files)))"
      ],
      "execution_count": 13,
      "outputs": []
    },
    {
      "cell_type": "code",
      "metadata": {
        "colab": {
          "base_uri": "https://localhost:8080/"
        },
        "id": "FZGBDDFCwkOC",
        "outputId": "1d6bea27-e866-422c-a9f7-0e6779cd0792"
      },
      "source": [
        "X_train, y_train = Merge_Data(train_x_files, train_y_files, step = STEP, count = COUNT)\n",
        "X_val, y_val = Merge_Data(val_x_files, val_y_files, step = STEP, count = COUNT)\n",
        "X_test, y_test = Merge_Data(test_x_files, test_y_files, step = STEP, count = COUNT)\n",
        "print(X_train.shape, y_train.shape)\n",
        "print(X_val.shape, y_val.shape)\n",
        "print(X_test.shape, y_test.shape)"
      ],
      "execution_count": 14,
      "outputs": [
        {
          "output_type": "stream",
          "name": "stdout",
          "text": [
            "(1149648, 60, 6) (1149648, 1)\n",
            "(86524, 60, 6) (86524, 1)\n",
            "(103624, 60, 6) (103624, 1)\n"
          ]
        }
      ]
    },
    {
      "cell_type": "code",
      "metadata": {
        "colab": {
          "base_uri": "https://localhost:8080/"
        },
        "id": "2YqicWH8y7tP",
        "outputId": "4553a892-de37-4abd-bdf1-c4b2ee3099f8"
      },
      "source": [
        "\"\"\"\n",
        "This module calculates the class weights for each of the 4 output classes in Y data since the data is not balanced.\n",
        "This information is then passed to the model, to upsample more data from the under represented classes during the training.\n",
        "this ensure that there is no overfitting.\n",
        "\"\"\"\n",
        "\n",
        "from sklearn.utils import class_weight\n",
        "class_weights = class_weight.compute_class_weight('balanced',\n",
        "                                                 classes = np.unique(y_train),\n",
        "                                                 y=y_train.ravel())\n",
        "print(class_weights)\n",
        "class_weights = {i:class_weights[i] for i in range(len(class_weights))}\n",
        "class_weights"
      ],
      "execution_count": 15,
      "outputs": [
        {
          "output_type": "stream",
          "name": "stdout",
          "text": [
            "[0.33436796 6.24225181 4.4045116  1.60760251]\n"
          ]
        },
        {
          "output_type": "execute_result",
          "data": {
            "text/plain": [
              "{0: 0.334367961580701,\n",
              " 1: 6.242251808092435,\n",
              " 2: 4.404511600821405,\n",
              " 3: 1.6076025125431388}"
            ]
          },
          "metadata": {},
          "execution_count": 15
        }
      ]
    },
    {
      "cell_type": "markdown",
      "metadata": {
        "id": "72wrmVa0LShK"
      },
      "source": [
        "CONVERT THE INPUT LABELS TO ONE-HOT ENCODING"
      ]
    },
    {
      "cell_type": "code",
      "metadata": {
        "id": "rcWv5TClzAsJ"
      },
      "source": [
        "\n",
        "from sklearn.preprocessing import OneHotEncoder\n",
        "\n",
        "enc = OneHotEncoder(handle_unknown='ignore', sparse=False)\n",
        "enc = enc.fit(y_train)\n",
        "\n",
        "y_train = enc.transform(y_train)\n",
        "y_test = enc.transform(y_test)\n",
        "y_val = enc.transform(y_val)"
      ],
      "execution_count": 16,
      "outputs": []
    },
    {
      "cell_type": "markdown",
      "metadata": {
        "id": "jJ5oJjk1lOnz"
      },
      "source": [
        "BI-LSTM MODEL"
      ]
    },
    {
      "cell_type": "code",
      "metadata": {
        "id": "98ekJg8PzEp2"
      },
      "source": [
        "model_save_dir = \"final_models\"\n",
        "model_name = \"model_BiLSTM_ts%d_s%d\"%(STEP, COUNT)"
      ],
      "execution_count": 17,
      "outputs": []
    },
    {
      "cell_type": "code",
      "metadata": {
        "id": "hJXFPK14zIPc"
      },
      "source": [
        "#model structure\n",
        "\n",
        "model = keras.Sequential()\n",
        "model.add(\n",
        "    keras.layers.Bidirectional(\n",
        "      keras.layers.LSTM(\n",
        "          units=128, \n",
        "          input_shape=[X_train.shape[1], X_train.shape[2]]\n",
        "      )\n",
        "    )\n",
        ")\n",
        "model.add(keras.layers.Dropout(rate=0.5))\n",
        "model.add(keras.layers.Dense(units=128, activation='relu'))\n",
        "model.add(keras.layers.Dense(y_train.shape[1], activation='softmax'))\n",
        "model.compile(loss='categorical_crossentropy', optimizer='adam', metrics=['acc'])"
      ],
      "execution_count": 18,
      "outputs": []
    },
    {
      "cell_type": "code",
      "metadata": {
        "colab": {
          "base_uri": "https://localhost:8080/"
        },
        "id": "493qDwWZzNCO",
        "outputId": "f1370f12-1bd6-4acf-d3ee-79d484eb999b"
      },
      "source": [
        "#training using early stopping to prevent over fitting\n",
        "\n",
        "callback = tf.keras.callbacks.EarlyStopping(monitor='loss', patience=3)\n",
        "\n",
        "history = model.fit(\n",
        "    X_train, y_train,\n",
        "    epochs=10,\n",
        "    batch_size=128,\n",
        "    validation_data=(X_val,y_val),\n",
        "    class_weight=class_weights,\n",
        "    shuffle=True\n",
        ")"
      ],
      "execution_count": 19,
      "outputs": [
        {
          "output_type": "stream",
          "name": "stdout",
          "text": [
            "Epoch 1/10\n",
            "8982/8982 [==============================] - 302s 33ms/step - loss: 0.1567 - acc: 0.9080 - val_loss: 0.2698 - val_acc: 0.9139\n",
            "Epoch 2/10\n",
            "8982/8982 [==============================] - 291s 32ms/step - loss: 0.0649 - acc: 0.9589 - val_loss: 0.1768 - val_acc: 0.9409\n",
            "Epoch 3/10\n",
            "8982/8982 [==============================] - 293s 33ms/step - loss: 0.0445 - acc: 0.9712 - val_loss: 0.2719 - val_acc: 0.9334\n",
            "Epoch 4/10\n",
            "8982/8982 [==============================] - 290s 32ms/step - loss: 0.0343 - acc: 0.9782 - val_loss: 0.2122 - val_acc: 0.9471\n",
            "Epoch 5/10\n",
            "8982/8982 [==============================] - 290s 32ms/step - loss: 0.0274 - acc: 0.9824 - val_loss: 0.2142 - val_acc: 0.9448\n",
            "Epoch 6/10\n",
            "8982/8982 [==============================] - 288s 32ms/step - loss: 0.0236 - acc: 0.9852 - val_loss: 0.1889 - val_acc: 0.9566\n",
            "Epoch 7/10\n",
            "8982/8982 [==============================] - 282s 31ms/step - loss: 0.0203 - acc: 0.9876 - val_loss: 0.2589 - val_acc: 0.9448\n",
            "Epoch 8/10\n",
            "8982/8982 [==============================] - 282s 31ms/step - loss: 0.0182 - acc: 0.9885 - val_loss: 0.1875 - val_acc: 0.9635\n",
            "Epoch 9/10\n",
            "8982/8982 [==============================] - 281s 31ms/step - loss: 0.0165 - acc: 0.9896 - val_loss: 0.2369 - val_acc: 0.9503\n",
            "Epoch 10/10\n",
            "8982/8982 [==============================] - 282s 31ms/step - loss: 0.0143 - acc: 0.9911 - val_loss: 0.2568 - val_acc: 0.9539\n"
          ]
        }
      ]
    },
    {
      "cell_type": "markdown",
      "metadata": {
        "id": "4DPitGgrmRM9"
      },
      "source": [
        "MODEL EVALUATION ON THE TEST DATA"
      ]
    },
    {
      "cell_type": "code",
      "metadata": {
        "colab": {
          "base_uri": "https://localhost:8080/"
        },
        "id": "AErLBkAz-9jB",
        "outputId": "4d7c30ac-dc93-47ea-d996-5a5b928551a8"
      },
      "source": [
        "model.evaluate(X_test,y_test)"
      ],
      "execution_count": 20,
      "outputs": [
        {
          "output_type": "stream",
          "name": "stdout",
          "text": [
            "3239/3239 [==============================] - 43s 13ms/step - loss: 0.3835 - acc: 0.9385\n"
          ]
        },
        {
          "output_type": "execute_result",
          "data": {
            "text/plain": [
              "[0.3835175633430481, 0.9385470747947693]"
            ]
          },
          "metadata": {},
          "execution_count": 20
        }
      ]
    },
    {
      "cell_type": "code",
      "metadata": {
        "id": "Z-UNaiielkCQ"
      },
      "source": [
        "y_pred = model.predict(X_test)"
      ],
      "execution_count": 21,
      "outputs": []
    },
    {
      "cell_type": "code",
      "metadata": {
        "id": "i8nh0vk1loEl",
        "colab": {
          "base_uri": "https://localhost:8080/"
        },
        "outputId": "0e31a96f-1b54-48be-d39c-7b276ef5de04"
      },
      "source": [
        "from sklearn.metrics import classification_report\n",
        "from  sklearn.metrics import precision_recall_fscore_support\n",
        "print(classification_report(enc.inverse_transform(y_test), enc.inverse_transform(y_pred)))"
      ],
      "execution_count": 22,
      "outputs": [
        {
          "output_type": "stream",
          "name": "stdout",
          "text": [
            "              precision    recall  f1-score   support\n",
            "\n",
            "           0       0.95      0.97      0.96     75760\n",
            "           1       0.93      0.92      0.93      6134\n",
            "           2       0.95      0.89      0.92      5506\n",
            "           3       0.88      0.83      0.85     16224\n",
            "\n",
            "    accuracy                           0.94    103624\n",
            "   macro avg       0.93      0.90      0.91    103624\n",
            "weighted avg       0.94      0.94      0.94    103624\n",
            "\n"
          ]
        }
      ]
    },
    {
      "cell_type": "markdown",
      "metadata": {
        "id": "AgYM4xwqo0NN"
      },
      "source": [
        "PLOTTING THE GRAPHS"
      ]
    },
    {
      "cell_type": "code",
      "metadata": {
        "id": "0n1sLiXEo3Ow",
        "colab": {
          "base_uri": "https://localhost:8080/",
          "height": 417
        },
        "outputId": "5582c18e-b3db-4fe5-f4e1-9b20616fb0d5"
      },
      "source": [
        "## Plots for Training and Validation\n",
        "\n",
        "fig, axs = plt.subplots(2)\n",
        "fig.suptitle('Training and Validation Loss/Accuracy')\n",
        "axs[0].plot(history.history['loss'], label='train_loss')\n",
        "axs[0].plot(history.history['val_loss'], label='val_loss')\n",
        "\n",
        "axs[1].plot(history.history['acc'], label='train_acc')\n",
        "axs[1].plot(history.history['val_acc'], label='val_acc')\n",
        "\n",
        "axs[0].legend()\n",
        "axs[1].legend()\n",
        "fig.set_size_inches(8,6)"
      ],
      "execution_count": 23,
      "outputs": [
        {
          "output_type": "display_data",
          "data": {
            "image/png": "[encoded data removed]",
            "text/plain": [
              "<Figure size 576x432 with 2 Axes>"
            ]
          },
          "metadata": {
            "needs_background": "light"
          }
        }
      ]
    },
    {
      "cell_type": "markdown",
      "metadata": {
        "id": "YCRrYh_5meEk"
      },
      "source": [
        "TO GENERATE THE PREDICTION FILES ACCORDING TO THE FORMAT"
      ]
    },
    {
      "cell_type": "code",
      "metadata": {
        "colab": {
          "base_uri": "https://localhost:8080/"
        },
        "id": "fN0P-AdD9av_",
        "outputId": "f926d58c-ab22-46dd-d537-4ed456815f66"
      },
      "source": [
        "files=sorted(glob.glob('/content/gdrive/MyDrive/TerrainRecog/TestData/subject_???_??__x.csv'))\n",
        "files\n",
        "\n",
        "y_files=sorted(glob.glob('/content/gdrive/MyDrive/TerrainRecog/TestData/subject_???_??__y_time.csv'))\n",
        "print(files,y_files)"
      ],
      "execution_count": 24,
      "outputs": [
        {
          "output_type": "stream",
          "name": "stdout",
          "text": [
            "['/content/gdrive/MyDrive/TerrainRecog/TestData/subject_009_01__x.csv', '/content/gdrive/MyDrive/TerrainRecog/TestData/subject_010_01__x.csv', '/content/gdrive/MyDrive/TerrainRecog/TestData/subject_011_01__x.csv', '/content/gdrive/MyDrive/TerrainRecog/TestData/subject_012_01__x.csv'] ['/content/gdrive/MyDrive/TerrainRecog/TestData/subject_009_01__y_time.csv', '/content/gdrive/MyDrive/TerrainRecog/TestData/subject_010_01__y_time.csv', '/content/gdrive/MyDrive/TerrainRecog/TestData/subject_011_01__y_time.csv', '/content/gdrive/MyDrive/TerrainRecog/TestData/subject_012_01__y_time.csv']\n"
          ]
        }
      ]
    },
    {
      "cell_type": "code",
      "metadata": {
        "id": "RwVhRBpp9e5p"
      },
      "source": [
        "def majority_vote(y):\n",
        "    y_out = []\n",
        "    for i in range(0, y.shape[0], 4):\n",
        "        a = list(y[i:i+4])\n",
        "        y_out.append(max(a, key=a.count))\n",
        "    return np.array(y_out)"
      ],
      "execution_count": 25,
      "outputs": []
    },
    {
      "cell_type": "code",
      "metadata": {
        "id": "K5YwAHK69hxu"
      },
      "source": [
        "predictions_dir = \"./\"\n",
        "TEST_STEP = STEP\n",
        "TEST_COUNT = 1"
      ],
      "execution_count": 27,
      "outputs": []
    },
    {
      "cell_type": "code",
      "metadata": {
        "colab": {
          "base_uri": "https://localhost:8080/"
        },
        "id": "GBetrVzc9pK1",
        "outputId": "139b2d87-8ad4-46fe-b89a-9545aa38ff94"
      },
      "source": [
        "to_save_filenames = [\"subject_009_01__y_prediction.csv\", \"subject_010_01__y_prediction.csv\", \"subject_011_01__y_prediction.csv\", \"subject_012_01__y_prediction.csv\"]\n",
        "\n",
        "for i in range(len(files)):\n",
        "    # read x values\n",
        "    df = pd.read_csv(files[i],header=None)\n",
        "    # scale x values\n",
        "    df = scale(df, list(df.columns.values))\n",
        "    # read y values\n",
        "    y_df = pd.read_csv(y_files[i],header=None)\n",
        "    print(y_df.shape)\n",
        "    \n",
        "    # pad x values according to the expected y values\n",
        "    to_add = y_df.shape[0] * 4 - df.shape[0] + STEP\n",
        "    to_add_df = pd.DataFrame(df.iloc[-to_add:])\n",
        "    df = df.append(to_add_df)\n",
        "    \n",
        "    # create windowed dataset\n",
        "    X_test, y_test = create_dataset(df, 0, TEST_STEP, TEST_COUNT)\n",
        "    \n",
        "    # run model\n",
        "    y_test = model.predict(X_test)\n",
        "    \n",
        "    # convert one-hot to integer class labels\n",
        "    y_test_int = np.argmax(y_test, axis=1)\n",
        "    \n",
        "    # reduce the class size by a factor of 4 by taking majority vote\n",
        "    # from a window of 4 elements\n",
        "    y_actual = majority_vote(y_test_int)\n",
        "    \n",
        "    print(y_actual.size)\n",
        "    \n",
        "    # convert into series to export to csv\n",
        "    y_series = pd.Series(y_actual)\n",
        "    y_series.to_csv(predictions_dir + \"/\" + to_save_filenames[i])"
      ],
      "execution_count": 28,
      "outputs": [
        {
          "output_type": "stream",
          "name": "stdout",
          "text": [
            "(9498, 1)\n",
            "9498\n",
            "(12270, 1)\n",
            "12270\n",
            "(12940, 1)\n",
            "12940\n",
            "(11330, 1)\n",
            "11330\n"
          ]
        }
      ]
    }
  ]
}